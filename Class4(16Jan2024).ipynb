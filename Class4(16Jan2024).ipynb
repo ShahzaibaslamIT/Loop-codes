{
 "cells": [
  {
   "cell_type": "markdown",
   "id": "aaa8876b",
   "metadata": {},
   "source": [
    "# 1. Write a program that accepts a string from user. Your program should count and display number of vowels in that string."
   ]
  },
  {
   "cell_type": "code",
   "execution_count": 2,
   "id": "40a6e4cb",
   "metadata": {},
   "outputs": [
    {
     "name": "stdout",
     "output_type": "stream",
     "text": [
      "Enter your txt herehi ,i m nasir hussain\n",
      "Number of vowels are 7\n"
     ]
    }
   ],
   "source": [
    "txt = input(\"Enter your txt here\").lower()\n",
    "count = 0\n",
    "for char in txt:\n",
    "    \n",
    "    vowels = ['a','e','i','o','u']\n",
    "    if char in vowels:\n",
    "        count +=1\n",
    "print(\"Number of vowels are\", count)"
   ]
  },
  {
   "cell_type": "code",
   "execution_count": 3,
   "id": "69077205",
   "metadata": {},
   "outputs": [],
   "source": [
    "count  = 10 "
   ]
  },
  {
   "cell_type": "code",
   "execution_count": 6,
   "id": "0503fb95",
   "metadata": {},
   "outputs": [],
   "source": [
    "count = count +1 \n",
    "\n",
    "count +=1"
   ]
  },
  {
   "cell_type": "code",
   "execution_count": 7,
   "id": "3780a2e3",
   "metadata": {},
   "outputs": [
    {
     "data": {
      "text/plain": [
       "11"
      ]
     },
     "execution_count": 7,
     "metadata": {},
     "output_type": "execute_result"
    }
   ],
   "source": [
    "count"
   ]
  },
  {
   "cell_type": "code",
   "execution_count": 9,
   "id": "541e3069",
   "metadata": {},
   "outputs": [
    {
     "data": {
      "text/plain": [
       "False"
      ]
     },
     "execution_count": 9,
     "metadata": {},
     "output_type": "execute_result"
    }
   ],
   "source": [
    "'b' in \"nasir\""
   ]
  },
  {
   "cell_type": "code",
   "execution_count": 11,
   "id": "ba52518e",
   "metadata": {},
   "outputs": [
    {
     "data": {
      "text/plain": [
       "True"
      ]
     },
     "execution_count": 11,
     "metadata": {},
     "output_type": "execute_result"
    }
   ],
   "source": [
    "vowels = ['a','e','i','o','u']\n",
    "\n",
    "'o' == vowels"
   ]
  },
  {
   "cell_type": "markdown",
   "id": "7097efc4",
   "metadata": {},
   "source": [
    "2. Write a program that reads a string from keyboard and display:\n",
    "* The number of uppercase letters in the string\n",
    "* The number of lowercase letters in the string\n",
    "* The number of digits in the string\n",
    "* The number of whitespace characters in the string"
   ]
  },
  {
   "cell_type": "markdown",
   "id": "9378c131",
   "metadata": {},
   "source": [
    "\"The Interact to React (Web Development Bootcamp) includes:\"\n"
   ]
  },
  {
   "cell_type": "code",
   "execution_count": 17,
   "id": "9e9cbbd0",
   "metadata": {},
   "outputs": [
    {
     "name": "stdout",
     "output_type": "stream",
     "text": [
      "Enter text hereThe Interact to React 34(Web Development Bootcamp) includes:45\n",
      "\n",
      "      Uppers: 6\n",
      "      Lowers: 42\n",
      "      Digits: 4\n",
      "      Spaces: 7\n",
      "      Others:3\n",
      "\n"
     ]
    }
   ],
   "source": [
    "txt  = input('Enter text here')\n",
    "upper_case = 0\n",
    "lower_case = 0\n",
    "digit = 0\n",
    "space = 0\n",
    "others =0\n",
    "for char in txt:\n",
    "    if char.isupper():\n",
    "        upper_case +=1\n",
    "    elif char.islower():\n",
    "        lower_case +=1\n",
    "    elif char.isdigit():\n",
    "        digit +=1\n",
    "    elif char.isspace():\n",
    "        space +=1\n",
    "        \n",
    "    else:\n",
    "        others +=1\n",
    "print(f'''\n",
    "      Uppers: {upper_case}\n",
    "      Lowers: {lower_case}\n",
    "      Digits: {digit}\n",
    "      Spaces: {space}\n",
    "      Others:{others}\n",
    "''') "
   ]
  },
  {
   "cell_type": "code",
   "execution_count": 13,
   "id": "372d1609",
   "metadata": {},
   "outputs": [
    {
     "data": {
      "text/plain": [
       "False"
      ]
     },
     "execution_count": 13,
     "metadata": {},
     "output_type": "execute_result"
    }
   ],
   "source": [
    "\"h\".isupper()"
   ]
  },
  {
   "cell_type": "code",
   "execution_count": 14,
   "id": "335fad24",
   "metadata": {},
   "outputs": [
    {
     "data": {
      "text/plain": [
       "'H'"
      ]
     },
     "execution_count": 14,
     "metadata": {},
     "output_type": "execute_result"
    }
   ],
   "source": [
    "'h'.upper()"
   ]
  },
  {
   "cell_type": "markdown",
   "id": "a72b43a0",
   "metadata": {},
   "source": [
    "3. Write a Python program that accepts a string from user. \n",
    "\n",
    "Your program should create and display a\n",
    "new string where the first and last characters have been exchanged."
   ]
  },
  {
   "cell_type": "code",
   "execution_count": 22,
   "id": "20c18741",
   "metadata": {},
   "outputs": [
    {
     "name": "stdout",
     "output_type": "stream",
     "text": [
      "Ente here nasir\n",
      "rasin\n"
     ]
    }
   ],
   "source": [
    "string = input(\"Ente here \")\n",
    "new_string = ''\n",
    "new_string += string[-1]+string[1:-1]+string[0]\n",
    "\n",
    "\n",
    "print(new_string)"
   ]
  },
  {
   "cell_type": "markdown",
   "id": "84fa95d9",
   "metadata": {},
   "source": [
    "# 4. Write a Python program that accepts a string from user. Your program should create a new string in reverse of first string and display it"
   ]
  },
  {
   "cell_type": "code",
   "execution_count": 23,
   "id": "61a0713b",
   "metadata": {},
   "outputs": [
    {
     "name": "stdout",
     "output_type": "stream",
     "text": [
      "Ente here hello\n"
     ]
    },
    {
     "data": {
      "text/plain": [
       "'olleh'"
      ]
     },
     "execution_count": 23,
     "metadata": {},
     "output_type": "execute_result"
    }
   ],
   "source": [
    "string = input(\"Ente here \")\n",
    "string[::-1]"
   ]
  },
  {
   "cell_type": "markdown",
   "id": "b2734093",
   "metadata": {},
   "source": [
    "# 6. Write a program that asks the user to input his name and print its initials. Assuming that the user always types first name, middle name and last name and does not include any unnecessary spaces. For example, if the user enters Ajay Kumar Garg the program should display A. K. G.\n",
    "Note:Don't use split() method"
   ]
  },
  {
   "cell_type": "markdown",
   "id": "bcd03a3a",
   "metadata": {},
   "source": [
    "# Agha Nasir Hussain "
   ]
  },
  {
   "cell_type": "code",
   "execution_count": 27,
   "id": "068aef6b",
   "metadata": {},
   "outputs": [
    {
     "name": "stdout",
     "output_type": "stream",
     "text": [
      "Enter Name  title case:Maulana Saad Hussain\n",
      "M.S.H.\n"
     ]
    }
   ],
   "source": [
    "name  = input(\"Enter Name  title case:\")\n",
    "new = ''\n",
    "for char in name:\n",
    "    if char.isupper():\n",
    "        new+=char+\".\"\n",
    "print(new)"
   ]
  },
  {
   "cell_type": "code",
   "execution_count": 29,
   "id": "201ce94e",
   "metadata": {},
   "outputs": [
    {
     "name": "stdout",
     "output_type": "stream",
     "text": [
      "a1\n",
      "b1\n",
      "c1\n"
     ]
    }
   ],
   "source": [
    "a = int(input(\"a\"))\n",
    "b = int(input(\"b\"))\n",
    "c = int(input(\"c\"))\n",
    "\n",
    "\n",
    "roots  = ((- b + (b**2-4*a*c)**(.5) )/2*a ), ((- b - (b**2-4*a*c)**(.5) )/2*a)"
   ]
  },
  {
   "cell_type": "code",
   "execution_count": 30,
   "id": "cc591505",
   "metadata": {},
   "outputs": [
    {
     "data": {
      "text/plain": [
       "((-0.49999999999999994+0.8660254037844386j), (-0.5-0.8660254037844386j))"
      ]
     },
     "execution_count": 30,
     "metadata": {},
     "output_type": "execute_result"
    }
   ],
   "source": [
    "roots"
   ]
  },
  {
   "cell_type": "code",
   "execution_count": 44,
   "id": "50961bff",
   "metadata": {},
   "outputs": [],
   "source": [
    "lst = [11,9,5,100,3,23]"
   ]
  },
  {
   "cell_type": "code",
   "execution_count": 47,
   "id": "159d1277",
   "metadata": {},
   "outputs": [],
   "source": [
    "bara_number = lst[0]\n",
    "for a in lst[:]:\n",
    "    if a > bara_number:\n",
    "        bara_number = a"
   ]
  },
  {
   "cell_type": "code",
   "execution_count": 48,
   "id": "c20d534e",
   "metadata": {},
   "outputs": [
    {
     "data": {
      "text/plain": [
       "100"
      ]
     },
     "execution_count": 48,
     "metadata": {},
     "output_type": "execute_result"
    }
   ],
   "source": [
    "bara_number"
   ]
  },
  {
   "cell_type": "code",
   "execution_count": 50,
   "id": "0826bf56",
   "metadata": {},
   "outputs": [],
   "source": [
    "# make a list of your favourite dish "
   ]
  },
  {
   "cell_type": "code",
   "execution_count": 54,
   "id": "838f343a",
   "metadata": {},
   "outputs": [
    {
     "name": "stdout",
     "output_type": "stream",
     "text": [
      "Favourite dish batao ya 'q' for quit likhoBiryani\n",
      "Favourite dish batao ya 'q' for quit likhoq\n"
     ]
    }
   ],
   "source": [
    "lst_fd = []\n",
    "for a in range(10):\n",
    "    fd = input(\"Favourite dish batao ya 'q' for quit likho\")\n",
    "    if fd== 'q':\n",
    "        break\n",
    "    else:\n",
    "        lst_fd.append(fd)"
   ]
  },
  {
   "cell_type": "code",
   "execution_count": 56,
   "id": "ac458569",
   "metadata": {},
   "outputs": [
    {
     "data": {
      "text/plain": [
       "['Biryani']"
      ]
     },
     "execution_count": 56,
     "metadata": {},
     "output_type": "execute_result"
    }
   ],
   "source": [
    "lst_fd"
   ]
  },
  {
   "cell_type": "code",
   "execution_count": 60,
   "id": "4c449bf0",
   "metadata": {
    "collapsed": true
   },
   "outputs": [
    {
     "name": "stdout",
     "output_type": "stream",
     "text": [
      "10 Hello\n",
      "9 Hello\n",
      "8 Hello\n",
      "7 Hello\n",
      "6 Hello\n",
      "5 Hello\n",
      "4 Hello\n",
      "3 Hello\n",
      "2 Hello\n",
      "1 Hello\n"
     ]
    }
   ],
   "source": [
    "counter = 10\n",
    "while (counter>0):\n",
    "    print(counter, \"Hello\")\n",
    "    counter-=1"
   ]
  },
  {
   "cell_type": "code",
   "execution_count": 63,
   "id": "a94beb46",
   "metadata": {},
   "outputs": [
    {
     "name": "stdout",
     "output_type": "stream",
     "text": [
      "Favourite dish batao ya 'q' for quit likhobiryani\n",
      "Favourite dish batao ya 'q' for quit likhoqorma\n",
      "Favourite dish batao ya 'q' for quit likhoq\n"
     ]
    }
   ],
   "source": [
    "lst = []\n",
    "while True:\n",
    "    fd = input(\"Favourite dish batao ya 'q' for quit likho\")\n",
    "    if fd== 'q':\n",
    "        break\n",
    "    else:\n",
    "        lst.append(fd)"
   ]
  },
  {
   "cell_type": "code",
   "execution_count": 64,
   "id": "09565f76",
   "metadata": {},
   "outputs": [
    {
     "data": {
      "text/plain": [
       "['biryani', 'qorma']"
      ]
     },
     "execution_count": 64,
     "metadata": {},
     "output_type": "execute_result"
    }
   ],
   "source": [
    "lst"
   ]
  },
  {
   "cell_type": "markdown",
   "id": "55c6a5aa",
   "metadata": {},
   "source": [
    "# Flag"
   ]
  },
  {
   "cell_type": "code",
   "execution_count": 65,
   "id": "e0c7b8b0",
   "metadata": {},
   "outputs": [
    {
     "name": "stdout",
     "output_type": "stream",
     "text": [
      "Favourite dish batao ya 'q' for quit likhoq\n"
     ]
    }
   ],
   "source": [
    "lst = []\n",
    "flag = True\n",
    "while flag:\n",
    "    fd = input(\"Favourite dish batao ya 'q' for quit likho\")\n",
    "    if fd== 'q':\n",
    "        flag =False\n",
    "    else:\n",
    "        lst.append(fd)"
   ]
  },
  {
   "cell_type": "code",
   "execution_count": 67,
   "id": "42d019cc",
   "metadata": {},
   "outputs": [
    {
     "name": "stdout",
     "output_type": "stream",
     "text": [
      "Enter name nasir, ali, asad\n",
      "nasir, ali, asad\n"
     ]
    }
   ],
   "source": [
    "name  = input(\"Enter name \")\n",
    "print(name)"
   ]
  },
  {
   "cell_type": "code",
   "execution_count": 70,
   "id": "8ed16d19",
   "metadata": {},
   "outputs": [
    {
     "name": "stdout",
     "output_type": "stream",
     "text": [
      "Enter your friends namesnasir,ali,asad,faisal,karim\n"
     ]
    },
    {
     "data": {
      "text/plain": [
       "['nasir', 'ali', 'asad', 'faisal', 'karim']"
      ]
     },
     "execution_count": 70,
     "metadata": {},
     "output_type": "execute_result"
    }
   ],
   "source": [
    "names = input(\"Enter your friends names\").split(',')\n",
    "names "
   ]
  },
  {
   "cell_type": "code",
   "execution_count": 69,
   "id": "f7046b8d",
   "metadata": {},
   "outputs": [
    {
     "data": {
      "text/plain": [
       "['H', 'llo']"
      ]
     },
     "execution_count": 69,
     "metadata": {},
     "output_type": "execute_result"
    }
   ],
   "source": [
    "\"Hello\".split('e')"
   ]
  },
  {
   "cell_type": "code",
   "execution_count": 72,
   "id": "fd342ea2",
   "metadata": {},
   "outputs": [
    {
     "data": {
      "text/plain": [
       "'nasir,ali,asad,faisal,karim'"
      ]
     },
     "execution_count": 72,
     "metadata": {},
     "output_type": "execute_result"
    }
   ],
   "source": [
    "','.join(names)"
   ]
  },
  {
   "cell_type": "code",
   "execution_count": null,
   "id": "a6402afb",
   "metadata": {},
   "outputs": [],
   "source": []
  }
 ],
 "metadata": {
  "kernelspec": {
   "display_name": "Python 3 (ipykernel)",
   "language": "python",
   "name": "python3"
  },
  "language_info": {
   "codemirror_mode": {
    "name": "ipython",
    "version": 3
   },
   "file_extension": ".py",
   "mimetype": "text/x-python",
   "name": "python",
   "nbconvert_exporter": "python",
   "pygments_lexer": "ipython3",
   "version": "3.11.5"
  }
 },
 "nbformat": 4,
 "nbformat_minor": 5
}
