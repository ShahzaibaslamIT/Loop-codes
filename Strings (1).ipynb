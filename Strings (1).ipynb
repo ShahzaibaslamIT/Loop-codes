{
  "nbformat": 4,
  "nbformat_minor": 0,
  "metadata": {
    "colab": {
      "provenance": []
    },
    "kernelspec": {
      "name": "python3",
      "display_name": "Python 3"
    },
    "language_info": {
      "name": "python"
    }
  },
  "cells": [
    {
      "cell_type": "code",
      "source": [
        "text=input(\"Enter your text here\").lower()\n",
        "count=0\n",
        "vowel=('a','e','i','o','u')\n",
        "for char in text:\n",
        "\n",
        "  count +=1\n",
        "  print(\"No of vowels are\",count)"
      ],
      "metadata": {
        "colab": {
          "base_uri": "https://localhost:8080/"
        },
        "id": "XlqMiTggw9Mp",
        "outputId": "ad1cbcf4-fd58-4db2-ee6f-878a00bcb76d"
      },
      "execution_count": null,
      "outputs": [
        {
          "output_type": "stream",
          "name": "stdout",
          "text": [
            "Enter your text hereI am Shahzaib Aslam\n",
            "No of vowels are 1\n",
            "No of vowels are 2\n",
            "No of vowels are 3\n",
            "No of vowels are 4\n",
            "No of vowels are 5\n",
            "No of vowels are 6\n",
            "No of vowels are 7\n",
            "No of vowels are 8\n",
            "No of vowels are 9\n",
            "No of vowels are 10\n",
            "No of vowels are 11\n",
            "No of vowels are 12\n",
            "No of vowels are 13\n",
            "No of vowels are 14\n",
            "No of vowels are 15\n",
            "No of vowels are 16\n",
            "No of vowels are 17\n",
            "No of vowels are 18\n",
            "No of vowels are 19\n"
          ]
        }
      ]
    },
    {
      "cell_type": "code",
      "source": [
        "text=input(\"Enter your text here\").lower()\n",
        "count=0\n",
        "for char in text:\n",
        "  vowel=('a','e','i','o','u')\n",
        "  if char in vowel:\n",
        "     count +=1\n",
        "  print(\"No of vowels are\",count)\n",
        "\n",
        "\n",
        "\n",
        "\n",
        "\n"
      ],
      "metadata": {
        "colab": {
          "base_uri": "https://localhost:8080/"
        },
        "outputId": "2699fbf7-239c-4d89-c9fe-d2afbe68f812",
        "id": "ZqOHK7AqzBKD"
      },
      "execution_count": null,
      "outputs": [
        {
          "output_type": "stream",
          "name": "stdout",
          "text": [
            "Enter your text hereI am Shahzaib\n",
            "No of vowels are 1\n",
            "No of vowels are 1\n",
            "No of vowels are 2\n",
            "No of vowels are 2\n",
            "No of vowels are 2\n",
            "No of vowels are 2\n",
            "No of vowels are 2\n",
            "No of vowels are 3\n",
            "No of vowels are 3\n",
            "No of vowels are 3\n",
            "No of vowels are 4\n",
            "No of vowels are 5\n",
            "No of vowels are 5\n"
          ]
        }
      ]
    },
    {
      "cell_type": "code",
      "source": [
        "text=input(\"Enter text here\")\n",
        "Upper_Case=0\n",
        "Lower_Case=0\n",
        "Digits=0\n",
        "White_Spaces=0\n",
        "others=0\n",
        "for char in text:\n",
        "  if char .isupper():\n",
        "    Upper_Case+=1\n",
        "  elif char .islower():\n",
        "    Lower_Case+=1\n",
        "  elif char .isdigit():\n",
        "    Digit+=1\n",
        "else:\n",
        "  others+=1\n",
        "print(f'''Uppers:{Upper_Case}\n",
        "           Lower:{Lower_Case}\n",
        "            digits:{Digits}\n",
        "            Spaces:{White_Spaces}\n",
        "            Others:{others}''')"
      ],
      "metadata": {
        "colab": {
          "base_uri": "https://localhost:8080/"
        },
        "id": "NQRw9_ZVz8_h",
        "outputId": "a80601ab-c11f-4a62-9fba-496907e580f4"
      },
      "execution_count": 10,
      "outputs": [
        {
          "output_type": "stream",
          "name": "stdout",
          "text": [
            "Enter text hereThis is a good country\n",
            "Uppers:1\n",
            "           Lower:17\n",
            "            digits:0\n",
            "            Spaces:0\n",
            "            Others:1\n"
          ]
        }
      ]
    },
    {
      "cell_type": "code",
      "source": [
        "Text=input(\"Enter text here\")\n",
        "New_Text=''\n",
        "New_Text+= Text[-1]+Text[1:-1]+Text[0]\n",
        "print(New_Text)"
      ],
      "metadata": {
        "colab": {
          "base_uri": "https://localhost:8080/"
        },
        "id": "jbz1GpohAzW8",
        "outputId": "159a7e7c-e7ed-40f3-e868-f7df463df83a"
      },
      "execution_count": 13,
      "outputs": [
        {
          "output_type": "stream",
          "name": "stdout",
          "text": [
            "Enter text hereShahzaib\n",
            "bhahzaiS\n"
          ]
        }
      ]
    },
    {
      "cell_type": "code",
      "source": [
        "Text=input(\"Enter text here\")\n",
        "Text[::-1]"
      ],
      "metadata": {
        "colab": {
          "base_uri": "https://localhost:8080/",
          "height": 53
        },
        "id": "5AqcIDZmC3om",
        "outputId": "e13f709f-6143-463b-fc90-3dac40779ad4"
      },
      "execution_count": 14,
      "outputs": [
        {
          "name": "stdout",
          "output_type": "stream",
          "text": [
            "Enter text hereali\n"
          ]
        },
        {
          "output_type": "execute_result",
          "data": {
            "text/plain": [
              "'ila'"
            ],
            "application/vnd.google.colaboratory.intrinsic+json": {
              "type": "string"
            }
          },
          "metadata": {},
          "execution_count": 14
        }
      ]
    },
    {
      "cell_type": "code",
      "source": [
        "Name=input(\"Enter your name\")\n",
        "New_Name=''\n",
        "for char in Name:\n",
        "  if char .isupper():\n",
        "    New_Name+=char+\".\"\n",
        "  print(New_Name)"
      ],
      "metadata": {
        "colab": {
          "base_uri": "https://localhost:8080/"
        },
        "id": "6uY9jlQ1DfNT",
        "outputId": "03f24613-1082-4b50-950e-88b9deb810bd"
      },
      "execution_count": 17,
      "outputs": [
        {
          "output_type": "stream",
          "name": "stdout",
          "text": [
            "Enter your nameShahzaibAslamQambrani\n",
            "S.\n",
            "S.\n",
            "S.\n",
            "S.\n",
            "S.\n",
            "S.\n",
            "S.\n",
            "S.\n",
            "S.A.\n",
            "S.A.\n",
            "S.A.\n",
            "S.A.\n",
            "S.A.\n",
            "S.A.Q.\n",
            "S.A.Q.\n",
            "S.A.Q.\n",
            "S.A.Q.\n",
            "S.A.Q.\n",
            "S.A.Q.\n",
            "S.A.Q.\n",
            "S.A.Q.\n"
          ]
        }
      ]
    },
    {
      "cell_type": "code",
      "source": [
        "\n"
      ],
      "metadata": {
        "id": "gTBuY1crKJni"
      },
      "execution_count": null,
      "outputs": []
    }
  ]
}